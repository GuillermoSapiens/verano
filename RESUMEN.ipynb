{
 "cells": [
  {
   "cell_type": "markdown",
   "metadata": {},
   "source": [
    "# <center> JuliaCon 2017 | Computation and Data in a Polyglot World | Fernando Pérez"
   ]
  },
  {
   "cell_type": "markdown",
   "metadata": {},
   "source": [
    "Actualmente en cualquier ciencia se manejan grandes cantidades de datos, los cuales normalmente se almacenan en supercomputadoras que gastan mucho espacio en respuesta a esto  IPython y Jupyter tienen un proyecto en el cual tratan de dar las herramientas para que las computadoras puedan comprender los datos independientemente del lenguaje de programación que utilicen.\n",
    "\n",
    "En sus inicios Ipython ofrecía una herramienta basada en una terminal interactiva que con ayuda de la combinación de pocos codigos permitia el acceso a los archivos de datos y su visualización, interactividad y un mejor flujo de trabajo.\n",
    "Las libreta IPython causaron un auje en poco tiempo principalmente entre laboratorios y universidades, debido a esto se creo un proyecto llamado Jupyter, en el cual no importa el código que se utilice, donde es fácil la comunicación entre el trabajo en la terminal y el buscador web.\n",
    "\n",
    "Aproximadamente en 2011 despues de vario prototipos se termina por desarrollar este sistema que permite combinar los documentos de las matematicas y los resultados de los calculos que además nos permita que sean accesibles a través de la web. \n",
    "\n",
    "La interfaz web abrió muchas ventajas a las herramientas desarrolladas ya que se puede accesar a través de la web,GitHub se creó para poder hacer ciencia abierta en colaboracion con varias personas, más accesible y reproducible.\n",
    "\n",
    "La necesidad de tener una pagina donde guardar codigo, figuras, cuadernos, etc, permitió  la creación de GitHubla cual se utiliza ampliamente para la investigación y para hacer ciencia de forma cooperativa de manera sencilla."
   ]
  }
 ],
 "metadata": {
  "kernelspec": {
   "display_name": "Julia 0.5.2",
   "language": "julia",
   "name": "julia-0.5"
  },
  "language_info": {
   "file_extension": ".jl",
   "mimetype": "application/julia",
   "name": "julia",
   "version": "0.5.2"
  }
 },
 "nbformat": 4,
 "nbformat_minor": 2
}
